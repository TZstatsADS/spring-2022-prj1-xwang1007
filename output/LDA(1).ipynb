{
 "cells": [
  {
   "cell_type": "markdown",
   "metadata": {},
   "source": [
    "# Latent Direlect Allocation"
   ]
  },
  {
   "cell_type": "markdown",
   "metadata": {},
   "source": [
    "## Cleaning raw data"
   ]
  },
  {
   "cell_type": "code",
   "execution_count": 1,
   "metadata": {},
   "outputs": [],
   "source": [
    "import pandas as pd \n",
    "import nltk\n",
    "import json\n",
    "import re\n",
    "import string \n",
    "import numpy as np\n",
    "from nltk.corpus import stopwords\n",
    "\n",
    "from nltk.stem.wordnet import WordNetLemmatizer\n",
    "from itertools import chain\n",
    "import os\n",
    "from pprint import pprint\n",
    "import matplotlib.pyplot as plt"
   ]
  },
  {
   "cell_type": "code",
   "execution_count": 2,
   "metadata": {
    "scrolled": true
   },
   "outputs": [
    {
     "name": "stderr",
     "output_type": "stream",
     "text": [
      "<ipython-input-2-3ac126943d89>:7: UserWarning: Boolean Series key will be reindexed to match DataFrame index.\n",
      "  p2 = df[df['original_publication_date']>1600][df['original_publication_date']<1800]['sentence_cleaned']\n",
      "<ipython-input-2-3ac126943d89>:8: UserWarning: Boolean Series key will be reindexed to match DataFrame index.\n",
      "  p3 = df[df['original_publication_date']>1800][df['original_publication_date']<1985]['sentence_cleaned']\n"
     ]
    },
    {
     "data": {
      "text/plain": [
       "[0        what's new, socrates, make leave usual haunts ...\n",
       " 1                surely prosecuting anyone king archon am?\n",
       " 2        athenians call prosecution indictment, euthyphro.\n",
       " 3                                                     say?\n",
       " 4        someone must indicted you, going tell indicted...\n",
       "                                ...                        \n",
       " 87140    ; great advantage, since concentrated effect p...\n",
       " 87141    consider oedipus sophocles, instance, effect e...\n",
       " 87142    less unity imitation epic poets, proved fact o...\n",
       " 87143    saying less unity epic, mean epic made plurali...\n",
       " 87144    if, then, tragedy superior respects, also, bes...\n",
       " Name: sentence_cleaned, Length: 87145, dtype: object,\n",
       " 87145     reader, thou hast beginning end discourse conc...\n",
       " 87146     these, remain, hope sufficient establish thron...\n",
       " 87147     papers evidence, flatter found them, great mis...\n",
       " 87148     king, body nation, since thoroughly confuted h...\n",
       " 87149     think worth examine works thro', let make expe...\n",
       "                                 ...                        \n",
       " 344727    let woman share rights, emulate virtues man; m...\n",
       " 344728    latter, expedient open fresh trade russia whip...\n",
       " 344729    allowing position, women inherent rights claim...\n",
       " 344730                          then, ye men understanding!\n",
       " 344731    mark severely women amiss, vicious tricks hors...\n",
       " Name: sentence_cleaned, Length: 76568, dtype: object,\n",
       " 130025    book grown attempt harmonize two different ten...\n",
       " 130026    one hand, many psychologists, especially behav...\n",
       " 130027    make psychology increasingly dependent physiol...\n",
       " 130028    meanwhile physicists, especially einstein expo...\n",
       " 130029    world consists events, matter derived logical ...\n",
       "                                 ...                        \n",
       " 360803    socialization housework including meal prepara...\n",
       " 360804    significant steps toward endingdomestic slaver...\n",
       " 360805    working women, therefore, special vital intere...\n",
       " 360806    moreover, capitalism, campaigns jobs equal bas...\n",
       " 360807    strategy calls question validity monopoly capi...\n",
       " Name: sentence_cleaned, Length: 181440, dtype: object]"
      ]
     },
     "execution_count": 2,
     "metadata": {},
     "output_type": "execute_result"
    }
   ],
   "source": [
    "# Import data.\n",
    "df = pd.read_csv(\"data/philosophy_data.csv\")\n",
    "stop_words = set(stopwords.words('english'))\n",
    "\n",
    "df['sentence_cleaned'] = df['sentence_lowered'].apply(lambda x: ' '.join([word.lower() for word in x.split() if word not in stop_words]))\n",
    "p1 = df[df['original_publication_date']<0]['sentence_cleaned']\n",
    "p2 = df[df['original_publication_date']>1600][df['original_publication_date']<1800]['sentence_cleaned']\n",
    "p3 = df[df['original_publication_date']>1800][df['original_publication_date']<1985]['sentence_cleaned']\n",
    "X_test = [p1,p2,p3]\n",
    "X_test"
   ]
  },
  {
   "cell_type": "markdown",
   "metadata": {},
   "source": [
    "#inspired by https://github.com/anthdm/ml-email-clustering/blob/master/helpers.py\n",
    "#https://www.machinelearningplus.com/nlp/topic-modeling-gensim-python/#14computemodelperplexityandcoherencescore\n",
    "# Preprocessing\n",
    "- tokenize words and clean-up text\n",
    "- create bigram and trigram models\n",
    "- Remove Stopwords, Make Bigrams \n",
    "\n"
   ]
  },
  {
   "cell_type": "code",
   "execution_count": 3,
   "metadata": {},
   "outputs": [],
   "source": [
    "from gensim.models import Phrases  #https://radimrehurek.com/gensim/corpora/dictionary.html\n",
    "from gensim import corpora\n",
    "from gensim import models\n",
    "from gensim.models.coherencemodel import CoherenceModel\n",
    "\n",
    "from gensim.utils import simple_preprocess"
   ]
  },
  {
   "cell_type": "code",
   "execution_count": 7,
   "metadata": {},
   "outputs": [
    {
     "name": "stdout",
     "output_type": "stream",
     "text": [
      "[['what', 'new', 'socrates', 'make', 'leave', 'usual', 'haunts', 'lyceum', 'spend', 'time', 'king', 'archon', 'court']]\n"
     ]
    }
   ],
   "source": [
    "def sent_to_words(sentences):\n",
    "    for sentence in sentences:\n",
    "        yield(simple_preprocess(str(sentence), deacc=True))  # deacc=True removes punctuations\n",
    "\n",
    "data_words = []\n",
    "for p in range(3):\n",
    "    data_words.append(list(sent_to_words(X_test[p])))\n",
    "\n",
    "print(data_words[0][:1])"
   ]
  },
  {
   "cell_type": "code",
   "execution_count": 9,
   "metadata": {},
   "outputs": [
    {
     "name": "stdout",
     "output_type": "stream",
     "text": [
      "['what', 'new', 'socrates', 'make', 'leave', 'usual', 'haunts', 'lyceum', 'spend_time', 'king_archon', 'court']\n"
     ]
    }
   ],
   "source": [
    "# Build the bigram and trigram models\n",
    "#bigram = models.Phrases(data_words, min_count=5, threshold=100) # higher threshold fewer phrases.\n",
    "#trigram = models.Phrases(bigram[data_words], threshold=100) \n",
    "\n",
    "bigram_mod = []\n",
    "trigram_mod = []\n",
    "\n",
    "for p in range(3):\n",
    "    bigram = models.Phrases(data_words[p], min_count=3) # higher threshold fewer phrases.\n",
    "    trigram = models.Phrases(bigram[data_words[p]])  \n",
    "\n",
    "    # Faster way to get a sentence clubbed as a trigram/bigram\n",
    "    bigram_mod.append(models.phrases.Phraser(bigram))\n",
    "    trigram_mod.append(models.phrases.Phraser(trigram))\n",
    "\n",
    "# See trigram example\n",
    "print(trigram_mod[0][bigram_mod[0][data_words[0][0]]])"
   ]
  },
  {
   "cell_type": "code",
   "execution_count": 11,
   "metadata": {},
   "outputs": [],
   "source": [
    "# Define functions for stopwords, bigrams, trigrams and lemmatization\n",
    "def remove_stopwords(texts):\n",
    "    #stop_words = set(stopwords.words('english'))\n",
    "    extra_stopwords = ['would','take','without','even','get','hold','go','much','somewhere', 'might','must','make','therein','come','amp','dont']\n",
    "    my_stopwords = stopwords.words('english') + extra_stopwords\n",
    "    stop_words = set(my_stopwords)\n",
    "    return [[word for word in simple_preprocess(str(doc)) if word not in stop_words] for doc in texts]\n",
    "\n",
    "#def make_bigrams(texts):\n",
    "#    return [bigram_mod[doc] for doc in texts]\n",
    "\n",
    "#def make_trigrams(texts):\n",
    "#    return [trigram_mod[bigram_mod[doc]] for doc in texts]\n",
    "\n",
    "#def lemmatization(texts, allowed_postags=['NOUN', 'ADJ', 'VERB', 'ADV']):\n",
    "#    \"\"\"https://spacy.io/api/annotation\"\"\"\n",
    "#    texts_out = []\n",
    "#    for sent in texts:\n",
    "#        doc = nlp(\" \".join(sent)) \n",
    "#        texts_out.append([token.lemma_ for token in doc if token.pos_ in allowed_postags])\n",
    "#    return texts_out"
   ]
  },
  {
   "cell_type": "code",
   "execution_count": 12,
   "metadata": {},
   "outputs": [
    {
     "name": "stdout",
     "output_type": "stream",
     "text": [
      "[['new', 'socrates', 'leave', 'usual', 'haunts', 'lyceum', 'spend_time', 'king_archon', 'court'], ['surely', 'prosecuting', 'anyone', 'king_archon']]\n"
     ]
    }
   ],
   "source": [
    "# Remove Stop Words\n",
    "data_words_nostops = []\n",
    "for p in range(3):\n",
    "    data_words_nostops.append(remove_stopwords(data_words[p]))\n",
    "\n",
    "# Form Bigrams\n",
    "def make_bigrams0(texts):\n",
    "    return [bigram_mod[0][doc] for doc in texts]\n",
    "def make_bigrams1(texts):\n",
    "    return [bigram_mod[1][doc] for doc in texts]\n",
    "def make_bigrams2(texts):\n",
    "    return [bigram_mod[2][doc] for doc in texts]\n",
    "\n",
    "data_words_bigrams = []\n",
    "data_words_bigrams.append(make_bigrams0(data_words_nostops[0]))\n",
    "data_words_bigrams.append(make_bigrams1(data_words_nostops[1]))\n",
    "data_words_bigrams.append(make_bigrams2(data_words_nostops[2]))\n",
    "\n",
    "# Initialize spacy 'en' model, keeping only tagger component (for efficiency)\n",
    "# python3 -m spacy download en\n",
    "#nlp = spacy.load('en', disable=['parser', 'ner'])\n",
    "\n",
    "# Do lemmatization keeping only noun, adj, vb, adv\n",
    "#data_lemmatized = lemmatization(data_words_bigrams, allowed_postags=['NOUN', 'ADJ', 'VERB', 'ADV'])\n",
    "\n",
    "#print(data_lemmatized[:1])\n",
    "print(data_words_bigrams[0][:2])"
   ]
  },
  {
   "cell_type": "markdown",
   "metadata": {},
   "source": [
    "## LDA -- 1"
   ]
  },
  {
   "cell_type": "code",
   "execution_count": 13,
   "metadata": {},
   "outputs": [
    {
     "name": "stdout",
     "output_type": "stream",
     "text": [
      "<class 'list'>\n"
     ]
    }
   ],
   "source": [
    "print(type(data_words_bigrams[0]))"
   ]
  },
  {
   "cell_type": "code",
   "execution_count": 14,
   "metadata": {},
   "outputs": [
    {
     "name": "stdout",
     "output_type": "stream",
     "text": [
      "[[(0, 1), (1, 1), (2, 1), (3, 1), (4, 1), (5, 1), (6, 1), (7, 1), (8, 1)]]\n"
     ]
    }
   ],
   "source": [
    "corpus = []\n",
    "for p in range(3):\n",
    "    # text: tokenized and pre-processed list of tweets.\n",
    "    texts = data_words_bigrams[p]\n",
    "\n",
    "    # Create Dictionary\n",
    "    id2word = corpora.Dictionary(texts)\n",
    "\n",
    "    # Term Document Frequency\n",
    "    corpus.append([id2word.doc2bow(text) for text in texts])\n",
    "\n",
    "# View\n",
    "print(corpus[0][:1])"
   ]
  },
  {
   "cell_type": "code",
   "execution_count": 15,
   "metadata": {
    "scrolled": true
   },
   "outputs": [
    {
     "data": {
      "text/plain": [
       "[[('although', 1),\n",
       "  ('attempt', 1),\n",
       "  ('book', 1),\n",
       "  ('find', 1),\n",
       "  ('first_sight', 1),\n",
       "  ('grown', 1),\n",
       "  ('harmonize', 1),\n",
       "  ('inconsistent', 1),\n",
       "  ('one', 1)]]"
      ]
     },
     "execution_count": 15,
     "metadata": {},
     "output_type": "execute_result"
    }
   ],
   "source": [
    "# Human readable format of corpus (term-frequency)\n",
    "[[(id2word[id], freq) for id, freq in cp] for cp in corpus[0][:1]]"
   ]
  },
  {
   "cell_type": "code",
   "execution_count": 16,
   "metadata": {},
   "outputs": [],
   "source": [
    "# Build LDA model\n",
    "lda_model = models.ldamodel.LdaModel(corpus=corpus[0],\n",
    "                                           id2word=id2word,\n",
    "                                           num_topics=20, \n",
    "                                           random_state=100,\n",
    "                                           update_every=1,\n",
    "                                           chunksize=100,\n",
    "                                           passes=10,\n",
    "                                           alpha='auto',\n",
    "                                           per_word_topics=True)"
   ]
  },
  {
   "cell_type": "code",
   "execution_count": 17,
   "metadata": {
    "scrolled": false
   },
   "outputs": [
    {
     "name": "stdout",
     "output_type": "stream",
     "text": [
      "[(0,\n",
      "  '0.116*\"simple\" + 0.110*\"perplexities\" + 0.088*\"instinct\" + '\n",
      "  '0.087*\"occasions\" + 0.070*\"position\" + 0.027*\"method\" + 0.017*\"matter\" + '\n",
      "  '0.016*\"friends\" + 0.015*\"meaning\" + 0.000*\"traffic\"'),\n",
      " (1,\n",
      "  '0.240*\"views\" + 0.145*\"things\" + 0.109*\"standpoint\" + 0.093*\"show\" + '\n",
      "  '0.068*\"great_deal\" + 0.044*\"different_ways\" + 0.032*\"unfamiliar\" + '\n",
      "  '0.019*\"used\" + 0.017*\"preliminary\" + 0.015*\"subject\"'),\n",
      " (2,\n",
      "  '0.466*\"formerly\" + 0.128*\"exists\" + 0.080*\"eg\" + 0.035*\"whoever\" + '\n",
      "  '0.018*\"convinced\" + 0.000*\"traffic\" + 0.000*\"acknowledged\" + '\n",
      "  '0.000*\"questioned\" + 0.000*\"main\" + 0.000*\"stands\"'),\n",
      " (3,\n",
      "  '0.066*\"harmonize\" + 0.000*\"encapsulations\" + 0.000*\"city\" + '\n",
      "  '0.000*\"external_observation\" + 0.000*\"acknowledged\" + 0.000*\"questioned\" + '\n",
      "  '0.000*\"reinforce\" + 0.000*\"consciously\" + 0.000*\"interpretation\" + '\n",
      "  '0.000*\"whole_range\"'),\n",
      " (4,\n",
      "  '0.120*\"necessity\" + 0.096*\"see_hear\" + 0.094*\"maintain\" + 0.060*\"concerned\" '\n",
      "  '+ 0.052*\"country\" + 0.045*\"dream\" + 0.043*\"original\" + 0.040*\"wish\" + '\n",
      "  '0.028*\"also\" + 0.027*\"us\"'),\n",
      " (5,\n",
      "  '0.148*\"essentially\" + 0.147*\"believing\" + 0.083*\"habit\" + 0.075*\"doubted\" + '\n",
      "  '0.074*\"detail\" + 0.069*\"external_world\" + 0.057*\"one_hand\" + 0.040*\"reads\" '\n",
      "  '+ 0.031*\"rare\" + 0.019*\"many\"'),\n",
      " (6,\n",
      "  '0.112*\"something\" + 0.104*\"physiology\" + 0.097*\"exponents\" + '\n",
      "  '0.091*\"two_different\" + 0.060*\"dependent\" + 0.039*\"mind\" + '\n",
      "  '0.021*\"investigation\" + 0.000*\"traffic\" + 0.000*\"acknowledged\" + '\n",
      "  '0.000*\"stands\"'),\n",
      " (7,\n",
      "  '0.124*\"calling\" + 0.095*\"develop\" + 0.062*\"helping\" + 0.062*\"dr\" + '\n",
      "  '0.057*\"view\" + 0.038*\"nunn\" + 0.038*\"horses\" + 0.025*\"respect\" + '\n",
      "  '0.024*\"reading\" + 0.020*\"important\"'),\n",
      " (8,\n",
      "  '0.185*\"due\" + 0.054*\"one\" + 0.048*\"grown\" + 0.033*\"find\" + 0.000*\"traffic\" '\n",
      "  '+ 0.000*\"images_copies\" + 0.000*\"novels\" + 0.000*\"acknowledged\" + '\n",
      "  '0.000*\"chemistry\" + 0.000*\"art\"'),\n",
      " (9,\n",
      "  '0.275*\"information\" + 0.101*\"desire\" + 0.083*\"mean\" + 0.058*\"accurate\" + '\n",
      "  '0.051*\"library\" + 0.042*\"profess\" + 0.039*\"muirhead\" + 0.032*\"example\" + '\n",
      "  '0.030*\"consists\" + 0.027*\"agreement\"'),\n",
      " (10,\n",
      "  '0.285*\"stuff\" + 0.240*\"called\" + 0.102*\"anti\" + 0.037*\"case\" + '\n",
      "  '0.019*\"mental\" + 0.010*\"realists\" + 0.003*\"reconcile\" + 0.000*\"traffic\" + '\n",
      "  '0.000*\"acknowledged\" + 0.000*\"stands\"'),\n",
      " (11,\n",
      "  '0.160*\"argue\" + 0.144*\"either\" + 0.073*\"parts\" + 0.065*\"physical\" + '\n",
      "  '0.064*\"truth_falsehood\" + 0.058*\"knew\" + 0.043*\"less\" + '\n",
      "  '0.031*\"psychology_physics\" + 0.023*\"reasons\" + 0.020*\"tend\"'),\n",
      " (12,\n",
      "  '0.193*\"history\" + 0.157*\"value\" + 0.070*\"tendency\" + 0.053*\"authors\" + '\n",
      "  '0.041*\"influence\" + 0.025*\"quality\" + 0.008*\"previous\" + '\n",
      "  '0.008*\"psychologists\" + 0.003*\"pervading\" + 0.000*\"traffic\"'),\n",
      " (13,\n",
      "  '0.609*\"meanwhile\" + 0.114*\"easy\" + 0.102*\"occur\" + 0.002*\"sense\" + '\n",
      "  '0.000*\"traffic\" + 0.000*\"acknowledged\" + 0.000*\"questioned\" + '\n",
      "  '0.000*\"stands\" + 0.000*\"alone\" + 0.000*\"pure\"'),\n",
      " (14,\n",
      "  '0.193*\"feeling\" + 0.101*\"sensations_images\" + 0.100*\"permanent\" + '\n",
      "  '0.096*\"existence\" + 0.070*\"question\" + 0.059*\"accordingly\" + '\n",
      "  '0.058*\"present\" + 0.054*\"physicists\" + 0.047*\"mysticism\" + 0.038*\"science\"'),\n",
      " (15,\n",
      "  '0.316*\"events\" + 0.157*\"derived\" + 0.054*\"construction\" + '\n",
      "  '0.049*\"theory_relativity\" + 0.044*\"primitive\" + 0.034*\"compounded\" + '\n",
      "  '0.021*\"composite\" + 0.006*\"living_organisms\" + 0.000*\"traffic\" + '\n",
      "  '0.000*\"acknowledged\"'),\n",
      " (16,\n",
      "  '0.424*\"experience\" + 0.064*\"belief\" + 0.007*\"composed\" + 0.000*\"alone\" + '\n",
      "  '0.000*\"traffic\" + 0.000*\"acknowledged\" + 0.000*\"intimately\" + '\n",
      "  '0.000*\"ruptured\" + 0.000*\"mentioning\" + 0.000*\"attack\"'),\n",
      " (17,\n",
      "  '0.130*\"china\" + 0.110*\"allusions\" + 0.094*\"modern_physics\" + 0.059*\"work\" + '\n",
      "  '0.055*\"constructed\" + 0.042*\"peking\" + 0.040*\"book_written\" + 0.029*\"datum\" '\n",
      "  '+ 0.022*\"assume\" + 0.018*\"complex\"'),\n",
      " (18,\n",
      "  '0.372*\"outlook\" + 0.255*\"mere\" + 0.032*\"everything\" + '\n",
      "  '0.015*\"ordinary_mortals\" + 0.013*\"objects\" + 0.010*\"imagined\" + '\n",
      "  '0.000*\"traffic\" + 0.000*\"acknowledged\" + 0.000*\"pure\" + 0.000*\"chemistry\"'),\n",
      " (19,\n",
      "  '0.250*\"observation\" + 0.106*\"hysterical\" + 0.081*\"look\" + 0.050*\"belong\" + '\n",
      "  '0.043*\"purpose\" + 0.000*\"acknowledged\" + 0.000*\"traffic\" + '\n",
      "  '0.000*\"criticisms\" + 0.000*\"spatial_relations\" + 0.000*\"passing\"')]\n"
     ]
    }
   ],
   "source": [
    "# Print the Keyword in the 10 topics\n",
    "pprint(lda_model.print_topics())\n",
    "doc_lda = lda_model[corpus[0]]"
   ]
  },
  {
   "cell_type": "code",
   "execution_count": 18,
   "metadata": {},
   "outputs": [
    {
     "name": "stdout",
     "output_type": "stream",
     "text": [
      "\n",
      "Perplexity:  -25.15051556703803\n",
      "\n",
      "Coherence Score:  0.568098502247547\n"
     ]
    }
   ],
   "source": [
    "# Compute Perplexity\n",
    "print('\\nPerplexity: ', lda_model.log_perplexity(corpus[0]))  # a measure of how good the model is. lower the better.\n",
    "\n",
    "# Compute Coherence Score\n",
    "coherence_model_lda = CoherenceModel(model=lda_model, texts=texts, dictionary=id2word, coherence='c_v')\n",
    "coherence_lda = coherence_model_lda.get_coherence()\n",
    "print('\\nCoherence Score: ', coherence_lda)"
   ]
  },
  {
   "cell_type": "markdown",
   "metadata": {},
   "source": [
    "## Building LDA Mallet Model"
   ]
  },
  {
   "cell_type": "code",
   "execution_count": 32,
   "metadata": {},
   "outputs": [],
   "source": [
    "# Download File: http://mallet.cs.umass.edu/dist/mallet-2.0.8.zip\n",
    "os.environ.update({'MALLET_HOME':r'C:/Users/esong/Code/test/mallet-2.0.8/bin'})\n",
    "#mallet_path = 'C:/Users/esong/Code/test/mallet-2.0.8/bin/mallet.bat' # update this path\n",
    "mallet_path = r'C:/Users/esong/Code/test/mallet-2.0.8/bin/mallet.bat' # update this path\n",
    "ldamallet = models.wrappers.LdaMallet(mallet_path, corpus=corpus[0], num_topics=20, id2word=id2word)"
   ]
  },
  {
   "cell_type": "code",
   "execution_count": 33,
   "metadata": {
    "scrolled": false
   },
   "outputs": [
    {
     "name": "stdout",
     "output_type": "stream",
     "text": [
      "[(14,\n",
      "  [('whollydominated', 0.06723616027910317),\n",
      "   ('prospective', 0.034015699553640144),\n",
      "   ('optic_nerve', 0.02944948950797804),\n",
      "   ('berkeleian', 0.02665332717664563),\n",
      "   ('assert', 0.02198450566928326),\n",
      "   ('proposing', 0.019316607665076188),\n",
      "   ('hear', 0.01587912369811708),\n",
      "   ('joy', 0.01572520650556667),\n",
      "   ('field', 0.015571289313016264),\n",
      "   ('images_copies', 0.014442563234313272)]),\n",
      " (17,\n",
      "  [('existence', 0.0691207415496897),\n",
      "   ('two_different', 0.03313533814559305),\n",
      "   ('happening', 0.027808113363343365),\n",
      "   ('dr', 0.020882721146418773),\n",
      "   ('respect', 0.020829448898596278),\n",
      "   ('xxi', 0.0161681272141278),\n",
      "   ('resolutely', 0.013744239938204193),\n",
      "   ('ten', 0.01174653064486056),\n",
      "   ('growth', 0.01174653064486056),\n",
      "   ('slips', 0.011373624910103082)]),\n",
      " (3,\n",
      "  [('single_observer', 0.034008154415403835),\n",
      "   ('relations', 0.024298272489453467),\n",
      "   ('strong', 0.024251137140298366),\n",
      "   ('schools', 0.020197497112959865),\n",
      "   ('observing_consciousness', 0.019655440597676228),\n",
      "   ('absurdum', 0.0145883905635031),\n",
      "   ('metaphysicians', 0.01331573613631543),\n",
      "   ('ranged', 0.01326860078716033),\n",
      "   ('adhering', 0.013197897763427682),\n",
      "   ('disappears', 0.011006104027715586)]),\n",
      " (12,\n",
      "  [('information', 0.1263395079518956),\n",
      "   ('easy', 0.06461078942541987),\n",
      "   ('hume', 0.04595593051589069),\n",
      "   ('show', 0.045798726648675556),\n",
      "   ('traffic', 0.04467209893363377),\n",
      "   ('consists', 0.03827914166688501),\n",
      "   ('empirical', 0.029632928970052663),\n",
      "   ('physiology', 0.02318757041423219),\n",
      "   ('james', 0.022742159457122647),\n",
      "   ('china', 0.019598082112819975)]),\n",
      " (7,\n",
      "  [('feeling', 0.10762276758297099),\n",
      "   ('outlook', 0.05834377379811826),\n",
      "   ('direct_contact', 0.031763578745670276),\n",
      "   ('modern_physics', 0.02677672144839954),\n",
      "   ('liable', 0.02466406269192031),\n",
      "   ('perplexities', 0.02110202176529835),\n",
      "   ('explained', 0.01680300685385806),\n",
      "   ('nonphysical', 0.01584494067359422),\n",
      "   ('sensations_images', 0.014837742894342497),\n",
      "   ('anti', 0.01469034809737883)]),\n",
      " (10,\n",
      "  [('events', 0.11109953914650975),\n",
      "   ('psychologie', 0.07194001093550655),\n",
      "   ('standpoint', 0.05743744629885177),\n",
      "   ('every_respect', 0.05491186502460489),\n",
      "   ('gegenstande', 0.043065066263962296),\n",
      "   ('accurate', 0.03460306714921759),\n",
      "   ('psychical', 0.030749602936964614),\n",
      "   ('falling', 0.026271252636238186),\n",
      "   ('physical', 0.021298200848803604),\n",
      "   ('original', 0.021089905485979117)]),\n",
      " (8,\n",
      "  [('called', 0.07565860505290434),\n",
      "   ('traffic', 0.03533254156769596),\n",
      "   ('modification', 0.02645217015763334),\n",
      "   ('rejected', 0.024859641546102353),\n",
      "   ('mere', 0.02332109695530123),\n",
      "   ('work', 0.022889224789462318),\n",
      "   ('different_ways', 0.022403368602893544),\n",
      "   ('stands', 0.02056791189807817),\n",
      "   ('valuable', 0.019029367307277046),\n",
      "   ('deren', 0.018867415245087456)]),\n",
      " (11,\n",
      "  [('desire', 0.060245666996304584),\n",
      "   ('traffic', 0.05124134700463228),\n",
      "   ('presented', 0.034846197886847445),\n",
      "   ('independently', 0.0320876489876646),\n",
      "   ('habit', 0.026362358819549264),\n",
      "   ('shows', 0.02612814240358091),\n",
      "   ('detour', 0.023109353042211005),\n",
      "   ('supposing', 0.01894550564721803),\n",
      "   ('present_lecture', 0.018268880445531672),\n",
      "   ('library', 0.015770572008535887)]),\n",
      " (16,\n",
      "  [('exists', 0.07637885127424876),\n",
      "   ('occur', 0.06542411563332065),\n",
      "   ('verhaltniss', 0.05150247242297452),\n",
      "   ('refined', 0.041435273234436416),\n",
      "   ('occurrence', 0.03352351971598833),\n",
      "   ('impressions', 0.026626093571700267),\n",
      "   ('cinder', 0.018663623684544186),\n",
      "   ('reach', 0.016406745277038164),\n",
      "   ('bit', 0.016305312539622162),\n",
      "   ('shall_see', 0.01600101432737416)]),\n",
      " (6,\n",
      "  [('tendency', 0.03393422464090422),\n",
      "   ('physicists', 0.03286151592056723),\n",
      "   ('sensations_images', 0.029407917113628633),\n",
      "   ('primitive', 0.020198320295125718),\n",
      "   ('case', 0.018523848146307004),\n",
      "   ('country', 0.018445357264331125),\n",
      "   ('stop', 0.018183720991078203),\n",
      "   ('matter', 0.017974411972475863),\n",
      "   ('embodies', 0.01726799403469297),\n",
      "   ('enters', 0.013735904345778498)])]\n",
      "\n",
      "Coherence Score:  0.6305156399455958\n"
     ]
    }
   ],
   "source": [
    "# Show Topics\n",
    "pprint(ldamallet.show_topics(formatted=False))\n",
    "\n",
    "# Compute Coherence Score\n",
    "coherence_model_ldamallet = CoherenceModel(model=ldamallet, texts=texts, dictionary=id2word, coherence='c_v')\n",
    "coherence_ldamallet = coherence_model_ldamallet.get_coherence()\n",
    "print('\\nCoherence Score: ', coherence_ldamallet)"
   ]
  },
  {
   "cell_type": "markdown",
   "metadata": {},
   "source": [
    "## Find the optimal number of topics for LDA"
   ]
  },
  {
   "cell_type": "code",
   "execution_count": 34,
   "metadata": {},
   "outputs": [],
   "source": [
    "def compute_coherence_values(dictionary, corpus, texts, limit, start=2, step=3):\n",
    "    \"\"\"\n",
    "    Compute c_v coherence for various number of topics\n",
    "\n",
    "    Parameters:\n",
    "    ----------\n",
    "    dictionary : Gensim dictionary\n",
    "    corpus : Gensim corpus\n",
    "    texts : List of input texts\n",
    "    limit : Max num of topics\n",
    "\n",
    "    Returns:\n",
    "    -------\n",
    "    model_list : List of LDA topic models\n",
    "    coherence_values : Coherence values corresponding to the LDA model with respective number of topics\n",
    "    \"\"\"\n",
    "    coherence_values = []\n",
    "    model_list = []\n",
    "    for num_topics in range(start, limit, step):\n",
    "        model = models.wrappers.LdaMallet(mallet_path, corpus=corpus, num_topics=num_topics, id2word=id2word)\n",
    "        model_list.append(model)\n",
    "        coherencemodel = CoherenceModel(model=model, texts=texts, dictionary=dictionary, coherence='c_v')\n",
    "        coherence_values.append(coherencemodel.get_coherence())\n",
    "\n",
    "    return model_list, coherence_values"
   ]
  },
  {
   "cell_type": "code",
   "execution_count": 35,
   "metadata": {},
   "outputs": [
    {
     "data": {
      "image/png": "[encoded data removed]",
      "text/plain": [
       "<Figure size 432x288 with 1 Axes>"
      ]
     },
     "metadata": {
      "needs_background": "light"
     },
     "output_type": "display_data"
    }
   ],
   "source": [
    "# Can take a long time to run.\n",
    "model_list, coherence_values = compute_coherence_values(dictionary=id2word, corpus=corpus[0], texts=texts, start=2, limit=30, step=2)\n",
    "# Show graph\n",
    "limit=30; start=2; step=2;\n",
    "x = range(start, limit, step)\n",
    "plt.plot(x, coherence_values)\n",
    "plt.grid()\n",
    "plt.xlabel(\"Num Topics\")\n",
    "plt.ylabel(\"Coherence score\")\n",
    "plt.legend((\"coherence_values\"), loc='best')\n",
    "plt.show()"
   ]
  },
  {
   "cell_type": "code",
   "execution_count": 36,
   "metadata": {
    "scrolled": false
   },
   "outputs": [
    {
     "name": "stdout",
     "output_type": "stream",
     "text": [
      "Num Topics = 2  has Coherence Value of 0.6895\n",
      "Num Topics = 4  has Coherence Value of 0.6636\n",
      "Num Topics = 6  has Coherence Value of 0.6297\n",
      "Num Topics = 8  has Coherence Value of 0.65\n",
      "Num Topics = 10  has Coherence Value of 0.6375\n",
      "Num Topics = 12  has Coherence Value of 0.6416\n",
      "Num Topics = 14  has Coherence Value of 0.6312\n",
      "Num Topics = 16  has Coherence Value of 0.6352\n",
      "Num Topics = 18  has Coherence Value of 0.6485\n",
      "Num Topics = 20  has Coherence Value of 0.629\n",
      "Num Topics = 22  has Coherence Value of 0.6337\n",
      "Num Topics = 24  has Coherence Value of 0.63\n",
      "Num Topics = 26  has Coherence Value of 0.6384\n",
      "Num Topics = 28  has Coherence Value of 0.6271\n"
     ]
    }
   ],
   "source": [
    "# Print the coherence scores\n",
    "for m, cv in zip(x, coherence_values):\n",
    "    print(\"Num Topics =\", m, \" has Coherence Value of\", round(cv, 4))"
   ]
  },
  {
   "cell_type": "code",
   "execution_count": 50,
   "metadata": {},
   "outputs": [
    {
     "name": "stdout",
     "output_type": "stream",
     "text": [
      "<class 'gensim.models.wrappers.ldamallet.LdaMallet'>\n"
     ]
    },
    {
     "name": "stderr",
     "output_type": "stream",
     "text": [
      "D:\\Anaconda\\lib\\site-packages\\ipykernel\\ipkernel.py:287: DeprecationWarning: `should_run_async` will not call `transform_cell` automatically in the future. Please pass the result to `transformed_cell` argument and any exception that happen during thetransform in `preprocessing_exc_tuple` in IPython 7.17 and above.\n",
      "  and should_run_async(code)\n"
     ]
    }
   ],
   "source": [
    "print(type(model_list[0]))"
   ]
  },
  {
   "cell_type": "code",
   "execution_count": 51,
   "metadata": {
    "scrolled": false
   },
   "outputs": [
    {
     "name": "stdout",
     "output_type": "stream",
     "text": [
      "[(0,\n",
      "  '0.014*\"traffic\" + 0.009*\"things\" + 0.008*\"desire\" + 0.008*\"exists\" + '\n",
      "  '0.007*\"acknowledged\" + 0.007*\"mere\" + 0.007*\"whollydominated\" + '\n",
      "  '0.007*\"existence\" + 0.007*\"occur\" + 0.007*\"surrounding\" + 0.006*\"permanent\" '\n",
      "  '+ 0.006*\"stands\" + 0.006*\"attracted\" + 0.005*\"habit\" + 0.005*\"verhaltniss\"'),\n",
      " (1,\n",
      "  '0.018*\"information\" + 0.012*\"essentially\" + 0.011*\"feeling\" + '\n",
      "  '0.011*\"events\" + 0.010*\"called\" + 0.010*\"believing\" + 0.007*\"question\" + '\n",
      "  '0.007*\"psychologie\" + 0.007*\"views\" + 0.007*\"physicists\" + '\n",
      "  '0.007*\"sensations_images\" + 0.006*\"stuff\" + 0.006*\"outlook\" + 0.006*\"easy\" '\n",
      "  '+ 0.005*\"every_respect\"')]\n"
     ]
    },
    {
     "name": "stderr",
     "output_type": "stream",
     "text": [
      "D:\\Anaconda\\lib\\site-packages\\ipykernel\\ipkernel.py:287: DeprecationWarning: `should_run_async` will not call `transform_cell` automatically in the future. Please pass the result to `transformed_cell` argument and any exception that happen during thetransform in `preprocessing_exc_tuple` in IPython 7.17 and above.\n",
      "  and should_run_async(code)\n"
     ]
    }
   ],
   "source": [
    "# Select the model and print the topics\n",
    "optimal_model = model_list[0]\n",
    "model_topics = optimal_model.show_topics(formatted=False, num_topics = 2)\n",
    "pprint(optimal_model.print_topics(num_words=15))"
   ]
  },
  {
   "cell_type": "code",
   "execution_count": 52,
   "metadata": {},
   "outputs": [
    {
     "name": "stdout",
     "output_type": "stream",
     "text": [
      "2\n"
     ]
    },
    {
     "name": "stderr",
     "output_type": "stream",
     "text": [
      "D:\\Anaconda\\lib\\site-packages\\ipykernel\\ipkernel.py:287: DeprecationWarning: `should_run_async` will not call `transform_cell` automatically in the future. Please pass the result to `transformed_cell` argument and any exception that happen during thetransform in `preprocessing_exc_tuple` in IPython 7.17 and above.\n",
      "  and should_run_async(code)\n"
     ]
    }
   ],
   "source": [
    "print(len(model_topics))"
   ]
  },
  {
   "cell_type": "markdown",
   "metadata": {},
   "source": [
    "## Visualization"
   ]
  },
  {
   "cell_type": "code",
   "execution_count": 53,
   "metadata": {
    "scrolled": true
   },
   "outputs": [
    {
     "name": "stderr",
     "output_type": "stream",
     "text": [
      "D:\\Anaconda\\lib\\site-packages\\ipykernel\\ipkernel.py:287: DeprecationWarning: `should_run_async` will not call `transform_cell` automatically in the future. Please pass the result to `transformed_cell` argument and any exception that happen during thetransform in `preprocessing_exc_tuple` in IPython 7.17 and above.\n",
      "  and should_run_async(code)\n"
     ]
    },
    {
     "data": {
      "image/png": "[encoded data removed]",
      "text/plain": [
       "<Figure size 1296x1296 with 2 Axes>"
      ]
     },
     "metadata": {
      "needs_background": "light"
     },
     "output_type": "display_data"
    },
    {
     "data": {
      "text/plain": [
       "'\\nfor i, ax in enumerate(axes.flatten()):\\n    ##fig.add_subplot(ax)\\n     \\n    topic_words = dict(topics[i][1])\\n    cloud.generate_from_frequencies(topic_words, max_font_size=300)\\n    #plt.gca().imshow(cloud, interpolation=\"bilinear\")\\n    plt.imshow(cloud, interpolation=\"bilinear\")\\n    plt.gca().set_title(\\'Topic \\' + str(i), fontdict=dict(size=16))\\n    #plt.gca().axis(\\'off\\')\\n\\nplt.subplots_adjust(wspace=0, hspace=0)\\nplt.axis(\\'off\\')\\nplt.margins(x=0, y=0)\\nplt.tight_layout()\\nplt.show()\\n'"
      ]
     },
     "execution_count": 53,
     "metadata": {},
     "output_type": "execute_result"
    }
   ],
   "source": [
    "#word cloud based on optimal LDA Mallet model\n",
    "from matplotlib import pyplot as plt\n",
    "from wordcloud import WordCloud, STOPWORDS\n",
    "import matplotlib.colors as mcolors\n",
    "\n",
    "from nltk.corpus import stopwords\n",
    " \n",
    "extra_stopwords = ['would','take','without','even','get','hold','go','much','somewhere', 'might','must','make','therein','come','amp','dont']\n",
    "#my_stopwords = stopwords.words('english') + extra_stopwords + stopwords.words('longStopWords.txt')\n",
    "my_stopwords = stopwords.words('english') + extra_stopwords\n",
    "\n",
    "cols = [color for nam, color in mcolors.TABLEAU_COLORS.items()]\n",
    "'''\n",
    "cloud = WordCloud(stopwords=my_stopwords,\n",
    "                  background_color='white',\n",
    "                  width=2500,\n",
    "                  height=1800,\n",
    "                  max_words=15,\n",
    "                  colormap='Dark2',\n",
    "                  color_func=lambda *args, **kwargs: cols[i],\n",
    "                  prefer_horizontal=1.0)\n",
    "'''\n",
    "topics  = optimal_model.show_topics(formatted=False, num_words = 15, num_topics = 8)\n",
    "#initiate wordcloud object\n",
    "wc = WordCloud(background_color=\"white\", colormap=\"Dark2\", max_font_size=150, random_state=42)\n",
    "\n",
    "numOfRows = len(topics) // 4\n",
    "#fig, axes = plt.subplots(numOfRows, 5, figsize=(10,8), sharex=True, sharey=True)\n",
    "plt.rcParams['figure.figsize'] = [18,18]\n",
    "# Create subplots for each topic\n",
    "for i in range(len(model_topics)):\n",
    "\n",
    "    #wc.generate(text=topics_df[\"Terms per Topic\"][i])\n",
    "    topic_words = dict(topics[i][1])\n",
    "    wc.generate_from_frequencies(topic_words, max_font_size=200)\n",
    "    plt.subplot(6, 4, i+1)\n",
    "    plt.imshow(wc, interpolation=\"bilinear\")\n",
    "    plt.axis(\"off\")\n",
    "    plt.title('Topic ' + str(i), fontdict=dict(size=16))\n",
    "\n",
    "plt.show()\n",
    "'''\n",
    "for i, ax in enumerate(axes.flatten()):\n",
    "    ##fig.add_subplot(ax)\n",
    "     \n",
    "    topic_words = dict(topics[i][1])\n",
    "    cloud.generate_from_frequencies(topic_words, max_font_size=300)\n",
    "    #plt.gca().imshow(cloud, interpolation=\"bilinear\")\n",
    "    plt.imshow(cloud, interpolation=\"bilinear\")\n",
    "    plt.gca().set_title('Topic ' + str(i), fontdict=dict(size=16))\n",
    "    #plt.gca().axis('off')\n",
    "\n",
    "plt.subplots_adjust(wspace=0, hspace=0)\n",
    "plt.axis('off')\n",
    "plt.margins(x=0, y=0)\n",
    "plt.tight_layout()\n",
    "plt.show()\n",
    "'''"
   ]
  },
  {
   "cell_type": "code",
   "execution_count": 54,
   "metadata": {},
   "outputs": [
    {
     "name": "stdout",
     "output_type": "stream",
     "text": [
      "True\n"
     ]
    },
    {
     "name": "stderr",
     "output_type": "stream",
     "text": [
      "D:\\Anaconda\\lib\\site-packages\\ipykernel\\ipkernel.py:287: DeprecationWarning: `should_run_async` will not call `transform_cell` automatically in the future. Please pass the result to `transformed_cell` argument and any exception that happen during thetransform in `preprocessing_exc_tuple` in IPython 7.17 and above.\n",
      "  and should_run_async(code)\n"
     ]
    }
   ],
   "source": [
    "print('amp' in my_stopwords)"
   ]
  },
  {
   "cell_type": "code",
   "execution_count": 55,
   "metadata": {},
   "outputs": [
    {
     "name": "stdout",
     "output_type": "stream",
     "text": [
      "[('information', 0.0182317478158688), ('essentially', 0.011980789863587596), ('feeling', 0.011191437183875746), ('events', 0.010902774229806365), ('called', 0.009819649517192051), ('believing', 0.009740458795279211), ('question', 0.007152710366320952), ('psychologie', 0.007058192407908854), ('views', 0.007053083329075767), ('physicists', 0.006902365503499719), ('sensations_images', 0.006603484391764165), ('stuff', 0.006115567363204414), ('outlook', 0.0060670311142900935), ('easy', 0.005883104276298983), ('every_respect', 0.005387523629489603)]\n"
     ]
    },
    {
     "name": "stderr",
     "output_type": "stream",
     "text": [
      "D:\\Anaconda\\lib\\site-packages\\ipykernel\\ipkernel.py:287: DeprecationWarning: `should_run_async` will not call `transform_cell` automatically in the future. Please pass the result to `transformed_cell` argument and any exception that happen during thetransform in `preprocessing_exc_tuple` in IPython 7.17 and above.\n",
      "  and should_run_async(code)\n"
     ]
    }
   ],
   "source": [
    "print(topics[1][1])"
   ]
  },
  {
   "cell_type": "code",
   "execution_count": 57,
   "metadata": {},
   "outputs": [
    {
     "name": "stderr",
     "output_type": "stream",
     "text": [
      "D:\\Anaconda\\lib\\site-packages\\ipykernel\\ipkernel.py:287: DeprecationWarning: `should_run_async` will not call `transform_cell` automatically in the future. Please pass the result to `transformed_cell` argument and any exception that happen during thetransform in `preprocessing_exc_tuple` in IPython 7.17 and above.\n",
      "  and should_run_async(code)\n"
     ]
    }
   ],
   "source": [
    "#convert LDA mallet to LDA model\n",
    "def convertldaGenToldaMallet(mallet_model):\n",
    "    model_gensim = models.ldamodel.LdaModel(\n",
    "        id2word=mallet_model.id2word, num_topics=mallet_model.num_topics,\n",
    "        alpha=mallet_model.alpha, eta=0,\n",
    "    )\n",
    "    model_gensim.state.sstats[...] = mallet_model.wordtopics\n",
    "    model_gensim.sync_state()\n",
    "    return model_gensim\n",
    "\n",
    "optimal_model = convertldaGenToldaMallet(optimal_model)"
   ]
  },
  {
   "cell_type": "code",
   "execution_count": 58,
   "metadata": {},
   "outputs": [
    {
     "name": "stderr",
     "output_type": "stream",
     "text": [
      "D:\\Anaconda\\lib\\site-packages\\ipykernel\\ipkernel.py:287: DeprecationWarning: `should_run_async` will not call `transform_cell` automatically in the future. Please pass the result to `transformed_cell` argument and any exception that happen during thetransform in `preprocessing_exc_tuple` in IPython 7.17 and above.\n",
      "  and should_run_async(code)\n"
     ]
    },
    {
     "data": {
      "text/html": [
       "\n",
       "<link rel=\"stylesheet\" type=\"text/css\" href=\"https://cdn.jsdelivr.net/gh/bmabey/pyLDAvis@3.3.1/pyLDAvis/js/ldavis.v1.0.0.css\">\n",
       "\n",
       "\n",
       "<div id=\"ldavis_el756025197365722724308089103\"></div>\n",
       "<script type=\"text/javascript\">\n",
       "\n",
       "var ldavis_el756025197365722724308089103_data = {\"mdsDat\": {\"x\": [0.3323836213147719, -0.3323836213147719], \"y\": [0.0, 0.0], \"topics\": [1, 2], \"cluster\": [1, 1], \"Freq\": [50.158369224266494, 49.841630775733506]}, \"tinfo\": {\"Term\": [\"information\", \"traffic\", \"essentially\", \"feeling\", \"events\", \"called\", \"believing\", \"things\", \"desire\", \"exists\", \"acknowledged\", \"question\", \"psychologie\", \"physicists\", \"whollydominated\", \"existence\", \"occur\", \"sensations_images\", \"surrounding\", \"mere\", \"views\", \"stuff\", \"outlook\", \"stands\", \"attracted\", \"every_respect\", \"habit\", \"one_hand\", \"verhaltniss\", \"gegenstande\", \"construction\", \"hard\", \"impressions\", \"cognition\", \"identical\", \"remainder\", \"picture\", \"saleable\", \"shall_presently\", \"illustration\", \"insight\", \"waves\", \"detour\", \"religion\", \"subsumed\", \"biographies\", \"stating\", \"expectation\", \"compelling\", \"questions_asked\", \"denken\", \"permanence\", \"nonsense\", \"caught\", \"necessity_impossibility\", \"pres_ences\", \"sur\", \"wavelengths\", \"sketches\", \"grown\", \"traffic\", \"things\", \"desire\", \"exists\", \"acknowledged\", \"whollydominated\", \"existence\", \"occur\", \"surrounding\", \"stands\", \"attracted\", \"habit\", \"verhaltniss\", \"gegenstande\", \"hume\", \"physiology\", \"refined\", \"passages_quoted\", \"bit\", \"single_observer\", \"analytical_hy\", \"questioned\", \"reach\", \"presented\", \"prospective\", \"occurrence\", \"regarded\", \"unfamiliar\", \"desires_desires\", \"independently\", \"mere\", \"standpoint\", \"permanent\", \"show\", \"press\", \"mental\", \"stuff\", \"view\", \"phenomena\", \"editor\", \"lectures\", \"london\", \"causal_laws\", \"physical\", \"authors\", \"hand\", \"evil\", \"argue\", \"protoplasm\", \"among_men\", \"common\", \"point\", \"composite\", \"original\", \"essays\", \"mysticism\", \"accepted\", \"alternatively\", \"possessed\", \"profess\", \"passing\", \"elements\", \"earlier_ones\", \"ordinarily_called\", \"information\", \"essentially\", \"feeling\", \"events\", \"called\", \"believing\", \"question\", \"psychologie\", \"physicists\", \"sensations_images\", \"outlook\", \"every_respect\", \"one_hand\", \"harmonize\", \"history\", \"pure\", \"detail\", \"present\", \"consists\", \"volume\", \"direct_contact\", \"accurate\", \"senses\", \"tendency\", \"two_different\", \"work\", \"exponents\", \"views\", \"part\", \"easy\"], \"Freq\": [7705.0, 5905.0, 5063.0, 4730.0, 4608.0, 4150.0, 4116.0, 3877.0, 3319.0, 3304.0, 3153.0, 3023.0, 2983.0, 2917.0, 2862.0, 2831.0, 2818.0, 2791.0, 2791.0, 3170.0, 3045.0, 2584.0, 2564.0, 2393.0, 2357.0, 2277.0, 2273.0, 2251.0, 2216.0, 2083.0, 847.8912900944441, 255.34951492629605, 1145.7990781405977, 420.1263385549804, 166.95929155527094, 129.85722538973462, 129.85722538973462, 546.7098249169804, 166.95929155527094, 121.12732892481843, 258.62321681617595, 166.95929155527094, 969.0186313985474, 166.95929155527094, 965.7449542672373, 347.01344018720107, 242.25465784963686, 121.12732892481843, 255.34951492629605, 129.85722538973462, 484.5093156992737, 255.34951492629605, 129.85722538973462, 121.12732892481843, 173.50672009360053, 121.12732892481843, 173.50672009360053, 121.12732892481843, 127.67475746314803, 202.97012375751396, 5905.77573841076, 3877.165883350332, 3319.543669283279, 3304.266245245754, 3153.6755126570224, 2862.315276942047, 2831.7606269355556, 2818.6657203417567, 2791.3847474665754, 2393.0831376946007, 2357.0722931130726, 2273.0470551123603, 2216.3027899868293, 2083.1718008107905, 1914.030165121782, 1804.906273621056, 1784.1728530770529, 1953.3146868346198, 1629.217184635148, 1574.655337919064, 1551.7393008970557, 1529.9146216311897, 1476.44393460269, 1461.1666095994442, 1446.9805433180613, 1443.7068661867513, 1438.250671611715, 1422.9733466084692, 1383.6888248956311, 1376.0501128768688, 3103.4786017941115, 2137.7337465611536, 2611.330722627494, 1711.0600042264132, 8.637674423107953, 223.4998248329963, 2584.824127431086, 349.8258298966726, 17.275348846215905, 4.318837211553976, 2.159418605776988, 2.159418605776988, 137.123085214834, 1407.9409640258364, 1292.412063715543, 88.5361630290614, 1.079709302888494, 1159.6077761180568, 4.318837211553976, 17.275348846215905, 2.159418605776988, 8.637674423107953, 175.99262050322955, 1047.3180047735557, 174.9129149483363, 349.8258298966726, 2.159418605776988, 4.318837211553976, 44.2680815145307, 882.1225259270468, 548.492340859336, 8.637674423107953, 17.275348846215905, 34.55069769243181, 7705.885349397472, 5063.836643040355, 4730.206457972644, 4608.199496548567, 4150.402471504715, 4116.931636206362, 3023.186181862383, 2983.236891814644, 2917.3745700405657, 2791.048638783565, 2564.309611178101, 2277.1069740897137, 2251.1939423633753, 2035.2521425224197, 2012.5781413529726, 1951.0347894118188, 1934.8390461739564, 1841.98414703311, 1577.4553142963687, 1522.3901218778988, 1509.4336060147295, 1454.3684135962596, 1406.8612215676055, 1400.3829636360208, 1343.1583847099896, 1251.3831296184735, 1188.759936810188, 2981.077406898182, 1415.4989644156522, 2486.570515999085], \"Total\": [7705.0, 5905.0, 5063.0, 4730.0, 4608.0, 4150.0, 4116.0, 3877.0, 3319.0, 3304.0, 3153.0, 3023.0, 2983.0, 2917.0, 2862.0, 2831.0, 2818.0, 2791.0, 2791.0, 3170.0, 3045.0, 2584.0, 2564.0, 2393.0, 2357.0, 2277.0, 2273.0, 2251.0, 2216.0, 2083.0, 847.8912900944441, 255.34951492629605, 1145.7990781405977, 420.1263385549804, 166.95929155527094, 129.85722538973462, 129.85722538973462, 546.7098249169804, 166.95929155527094, 121.12732892481843, 258.62321681617595, 166.95929155527094, 969.0186313985474, 166.95929155527094, 965.7449542672373, 347.01344018720107, 242.25465784963686, 121.12732892481843, 255.34951492629605, 129.85722538973462, 484.5093156992737, 255.34951492629605, 129.85722538973462, 121.12732892481843, 173.50672009360053, 121.12732892481843, 173.50672009360053, 121.12732892481843, 127.67475746314803, 202.97012375751396, 5905.77573841076, 3877.165883350332, 3319.543669283279, 3304.266245245754, 3153.6755126570224, 2862.315276942047, 2831.7606269355556, 2818.6657203417567, 2791.3847474665754, 2393.0831376946007, 2357.0722931130726, 2273.0470551123603, 2216.3027899868293, 2083.1718008107905, 1914.030165121782, 1804.906273621056, 1784.1728530770529, 1956.553814647183, 1629.217184635148, 1574.655337919064, 1551.7393008970557, 1529.9146216311897, 1476.44393460269, 1461.1666095994442, 1446.9805433180613, 1443.7068661867513, 1438.250671611715, 1422.9733466084692, 1383.6888248956311, 1376.0501128768688, 3170.4205799186325, 2404.421941203231, 3310.9823824208393, 2610.457819031752, 8.637674423107953, 223.4998248329963, 2584.824127431086, 349.8258298966726, 17.275348846215905, 4.318837211553976, 2.159418605776988, 2.159418605776988, 137.123085214834, 1407.9409640258364, 1292.412063715543, 88.5361630290614, 1.079709302888494, 1159.6077761180568, 4.318837211553976, 17.275348846215905, 2.159418605776988, 8.637674423107953, 175.99262050322955, 1047.3180047735557, 174.9129149483363, 349.8258298966726, 2.159418605776988, 4.318837211553976, 44.2680815145307, 882.1225259270468, 548.492340859336, 8.637674423107953, 17.275348846215905, 34.55069769243181, 7705.885349397472, 5063.836643040355, 4730.206457972644, 4608.199496548567, 4150.402471504715, 4116.931636206362, 3023.186181862383, 2983.236891814644, 2917.3745700405657, 2791.048638783565, 2564.309611178101, 2277.1069740897137, 2251.1939423633753, 2035.2521425224197, 2012.5781413529726, 1951.0347894118188, 1934.8390461739564, 1841.98414703311, 1577.4553142963687, 1522.3901218778988, 1509.4336060147295, 1454.3684135962596, 1406.8612215676055, 1400.3829636360208, 1343.1583847099896, 1251.3831296184735, 1188.759936810188, 3045.4604026114025, 1424.228862427979, 2664.4421843251434], \"Category\": [\"Default\", \"Default\", \"Default\", \"Default\", \"Default\", \"Default\", \"Default\", \"Default\", \"Default\", \"Default\", \"Default\", \"Default\", \"Default\", \"Default\", \"Default\", \"Default\", \"Default\", \"Default\", \"Default\", \"Default\", \"Default\", \"Default\", \"Default\", \"Default\", \"Default\", \"Default\", \"Default\", \"Default\", \"Default\", \"Default\", \"Topic1\", \"Topic1\", \"Topic1\", \"Topic1\", \"Topic1\", \"Topic1\", \"Topic1\", \"Topic1\", \"Topic1\", \"Topic1\", \"Topic1\", \"Topic1\", \"Topic1\", \"Topic1\", \"Topic1\", \"Topic1\", \"Topic1\", \"Topic1\", \"Topic1\", \"Topic1\", \"Topic1\", \"Topic1\", \"Topic1\", \"Topic1\", \"Topic1\", \"Topic1\", \"Topic1\", \"Topic1\", \"Topic1\", \"Topic1\", \"Topic1\", \"Topic1\", \"Topic1\", \"Topic1\", \"Topic1\", \"Topic1\", \"Topic1\", \"Topic1\", \"Topic1\", \"Topic1\", \"Topic1\", \"Topic1\", \"Topic1\", \"Topic1\", \"Topic1\", \"Topic1\", \"Topic1\", \"Topic1\", \"Topic1\", \"Topic1\", \"Topic1\", \"Topic1\", \"Topic1\", \"Topic1\", \"Topic1\", \"Topic1\", \"Topic1\", \"Topic1\", \"Topic1\", \"Topic1\", \"Topic1\", \"Topic1\", \"Topic1\", \"Topic1\", \"Topic2\", \"Topic2\", \"Topic2\", \"Topic2\", \"Topic2\", \"Topic2\", \"Topic2\", \"Topic2\", \"Topic2\", \"Topic2\", \"Topic2\", \"Topic2\", \"Topic2\", \"Topic2\", \"Topic2\", \"Topic2\", \"Topic2\", \"Topic2\", \"Topic2\", \"Topic2\", \"Topic2\", \"Topic2\", \"Topic2\", \"Topic2\", \"Topic2\", \"Topic2\", \"Topic2\", \"Topic2\", \"Topic2\", \"Topic2\", \"Topic2\", \"Topic2\", \"Topic2\", \"Topic2\", \"Topic2\", \"Topic2\", \"Topic2\", \"Topic2\", \"Topic2\", \"Topic2\", \"Topic2\", \"Topic2\", \"Topic2\", \"Topic2\", \"Topic2\", \"Topic2\", \"Topic2\", \"Topic2\", \"Topic2\", \"Topic2\", \"Topic2\", \"Topic2\", \"Topic2\", \"Topic2\", \"Topic2\", \"Topic2\", \"Topic2\", \"Topic2\", \"Topic2\", \"Topic2\"], \"logprob\": [30.0, 29.0, 28.0, 27.0, 26.0, 25.0, 24.0, 23.0, 22.0, 21.0, 20.0, 19.0, 18.0, 17.0, 16.0, 15.0, 14.0, 13.0, 12.0, 11.0, 10.0, 9.0, 8.0, 7.0, 6.0, 5.0, 4.0, 3.0, 2.0, 1.0, -6.2179, -7.418, -5.9168, -6.9201, -7.8429, -8.0942, -8.0942, -6.6567, -7.8429, -8.1638, -7.4053, -7.8429, -6.0844, -7.8429, -6.0878, -7.1113, -7.4707, -8.1638, -7.418, -8.0942, -6.7775, -7.418, -8.0942, -8.1638, -7.8044, -8.1638, -7.8044, -8.1638, -8.1112, -7.6476, -4.277, -4.6978, -4.8531, -4.8577, -4.9043, -5.0013, -5.012, -5.0166, -5.0264, -5.1803, -5.1955, -5.2318, -5.2571, -5.319, -5.4037, -5.4624, -5.474, -5.3834, -5.5648, -5.5989, -5.6135, -5.6277, -5.6633, -5.6737, -5.6834, -5.6857, -5.6895, -5.7002, -5.7282, -5.7337, -4.9204, -5.2932, -5.0931, -5.5158, -10.7982, -7.5449, -5.0969, -7.0969, -10.105, -11.4913, -12.1845, -12.1845, -8.0335, -5.7044, -5.7901, -8.4709, -12.8776, -5.8985, -11.4913, -10.105, -12.1845, -10.7982, -7.7839, -6.0003, -7.79, -7.0969, -12.1845, -11.4913, -9.1641, -6.172, -6.6472, -10.7982, -10.105, -9.4119, -4.0046, -4.4245, -4.4926, -4.5187, -4.6234, -4.6315, -4.9403, -4.9536, -4.9759, -5.0202, -5.1049, -5.2237, -5.2351, -5.336, -5.3472, -5.3782, -5.3866, -5.4357, -5.5908, -5.6263, -5.6348, -5.672, -5.7052, -5.7098, -5.7516, -5.8223, -5.8737, -4.9543, -5.6991, -5.1357], \"loglift\": [30.0, 29.0, 28.0, 27.0, 26.0, 25.0, 24.0, 23.0, 22.0, 21.0, 20.0, 19.0, 18.0, 17.0, 16.0, 15.0, 14.0, 13.0, 12.0, 11.0, 10.0, 9.0, 8.0, 7.0, 6.0, 5.0, 4.0, 3.0, 2.0, 1.0, 0.69, 0.69, 0.69, 0.69, 0.69, 0.69, 0.69, 0.69, 0.69, 0.69, 0.69, 0.69, 0.69, 0.69, 0.69, 0.69, 0.69, 0.69, 0.69, 0.69, 0.69, 0.69, 0.69, 0.69, 0.69, 0.69, 0.69, 0.69, 0.69, 0.69, 0.69, 0.69, 0.69, 0.69, 0.69, 0.69, 0.69, 0.69, 0.69, 0.69, 0.69, 0.69, 0.69, 0.69, 0.69, 0.69, 0.69, 0.6883, 0.69, 0.69, 0.69, 0.69, 0.69, 0.69, 0.69, 0.69, 0.69, 0.69, 0.69, 0.69, 0.6686, 0.5724, 0.4526, 0.2676, 0.6963, 0.6963, 0.6963, 0.6963, 0.6963, 0.6963, 0.6963, 0.6963, 0.6963, 0.6963, 0.6963, 0.6963, 0.6963, 0.6963, 0.6963, 0.6963, 0.6963, 0.6963, 0.6963, 0.6963, 0.6963, 0.6963, 0.6963, 0.6963, 0.6963, 0.6963, 0.6963, 0.6963, 0.6963, 0.6963, 0.6963, 0.6963, 0.6963, 0.6963, 0.6963, 0.6963, 0.6963, 0.6963, 0.6963, 0.6963, 0.6963, 0.6963, 0.6963, 0.6963, 0.6963, 0.6963, 0.6963, 0.6963, 0.6963, 0.6963, 0.6963, 0.6963, 0.6963, 0.6963, 0.6963, 0.6963, 0.6963, 0.675, 0.6902, 0.6272]}, \"token.table\": {\"Topic\": [2, 2, 1, 2, 2, 1, 2, 1, 2, 2, 1, 1, 2, 1, 2, 1, 2, 1, 2, 2, 1, 1, 1, 1, 2, 1, 2, 2, 1, 2, 2, 2, 2, 2, 2, 2, 2, 1, 1, 1, 2, 2, 1, 1, 1, 2, 1, 2, 2, 1, 1, 1, 1, 1, 2, 1, 2, 2, 2, 1, 2, 2, 1, 1, 1, 1, 2, 2, 2, 2, 1, 2, 1, 2, 2, 1, 1, 2, 2, 2, 2, 1, 1, 2, 2, 1, 2, 1, 2, 2, 1, 2, 2, 2, 2, 1, 1, 1, 1, 1, 1, 1, 1, 2, 2, 1, 1, 2, 1, 1, 1, 2, 1, 1, 2, 1, 1, 1, 2, 1, 1, 2, 1, 1, 2, 1, 2, 2, 1, 1, 1, 2], \"Freq\": [0.9261752189452739, 0.9997466848201491, 1.0001028917977373, 0.9261752189452739, 0.9840611701293535, 1.0001680044468768, 1.0003382384026918, 0.9999693292762875, 0.9996811669226003, 1.0000166055207322, 0.9999612689721936, 0.9998666938716358, 0.9999030283189453, 0.998948801018328, 0.9991023742308515, 0.9996992843738031, 0.9261752189452739, 0.9986312293313072, 1.0000419307170343, 0.9997113615249559, 1.0001282120795743, 1.0010127448220847, 1.0001374679058883, 1.000224888066428, 1.0000831871913904, 0.9999807729202064, 0.999712735947443, 0.9840611701293535, 0.06680572806089402, 0.9334036274575473, 0.9261752189452739, 1.041947121313433, 1.0004978766244301, 1.0000322595239857, 0.9999567083524233, 0.9999530219304886, 0.9261752189452739, 1.0000845315321385, 0.9999194237915492, 0.998948801018328, 1.0002019442129384, 0.9999563532851096, 0.999917529216398, 1.0001471952715648, 0.9999792986633275, 1.0052389549656262, 0.9986312293313072, 0.9998761123906215, 1.0002096110647132, 0.999984239996667, 1.0002438225770476, 0.998948801018328, 1.0001753552287094, 0.9999635820844025, 1.00001487831668, 1.0014568807412672, 0.9261752189452739, 0.9261752189452739, 0.997763645526927, 0.9787344996604953, 0.021132842886642984, 1.0004978766244301, 1.0028430017358023, 1.0010994737477015, 1.000118594998985, 1.0002030424735895, 0.9999138491092546, 1.0130041457213932, 0.9996963627359539, 0.9998792613899853, 0.006319209108469472, 0.9935200987204781, 0.9981836356247509, 0.0015333081960441641, 0.9991023742308515, 0.9986312293313072, 0.7885877055289421, 0.2114176154233089, 0.9840611701293535, 1.0000419307170343, 0.9998716071482859, 1.0000519286681606, 1.0010994737477015, 1.041947121313433, 0.9939441352469114, 0.998948801018328, 1.0000086064621758, 0.9998859749474498, 1.041947121313433, 0.9998611010109757, 1.0000134464019081, 0.9261752189452739, 0.9999205923554734, 0.9999821687383498, 0.9999384153501694, 1.0000558059695641, 1.0010994737477015, 0.9996993217336021, 0.9999031186486473, 0.9998257107633163, 1.0002438225770476, 1.0010994737477015, 1.0005307661757563, 0.9999825732941773, 1.0000986440099897, 1.0002438225770476, 0.6554405849908078, 0.3443840361816109, 1.000218880965654, 1.0025474302306456, 0.8891950133053989, 0.11104540156807366, 0.9999652591699423, 0.998948801018328, 1.0000680404392113, 1.0002640922239725, 1.0028430017358023, 0.9998621660926805, 0.999726529352352, 0.9999572153074378, 1.0000379732653548, 0.9998820803921618, 1.0000187307735555, 0.9998633805867153, 1.0004978766244301, 0.021014884956350663, 0.9788339383575207, 0.9997437438194767, 0.998948801018328, 1.0002438225770476, 0.9998898524755163, 0.9996938350778388], \"Term\": [\"accepted\", \"accurate\", \"acknowledged\", \"alternatively\", \"among_men\", \"analytical_hy\", \"argue\", \"attracted\", \"authors\", \"believing\", \"biographies\", \"bit\", \"called\", \"caught\", \"causal_laws\", \"cognition\", \"common\", \"compelling\", \"composite\", \"consists\", \"construction\", \"denken\", \"desire\", \"desires_desires\", \"detail\", \"detour\", \"direct_contact\", \"earlier_ones\", \"easy\", \"easy\", \"editor\", \"elements\", \"essays\", \"essentially\", \"events\", \"every_respect\", \"evil\", \"existence\", \"exists\", \"expectation\", \"exponents\", \"feeling\", \"gegenstande\", \"grown\", \"habit\", \"hand\", \"hard\", \"harmonize\", \"history\", \"hume\", \"identical\", \"illustration\", \"impressions\", \"independently\", \"information\", \"insight\", \"lectures\", \"london\", \"mental\", \"mere\", \"mere\", \"mysticism\", \"necessity_impossibility\", \"nonsense\", \"occur\", \"occurrence\", \"one_hand\", \"ordinarily_called\", \"original\", \"outlook\", \"part\", \"part\", \"passages_quoted\", \"passages_quoted\", \"passing\", \"permanence\", \"permanent\", \"permanent\", \"phenomena\", \"physical\", \"physicists\", \"physiology\", \"picture\", \"point\", \"possessed\", \"pres_ences\", \"present\", \"presented\", \"press\", \"profess\", \"prospective\", \"protoplasm\", \"psychologie\", \"pure\", \"question\", \"questioned\", \"questions_asked\", \"reach\", \"refined\", \"regarded\", \"religion\", \"remainder\", \"saleable\", \"sensations_images\", \"senses\", \"shall_presently\", \"show\", \"show\", \"single_observer\", \"sketches\", \"standpoint\", \"standpoint\", \"stands\", \"stating\", \"stuff\", \"subsumed\", \"sur\", \"surrounding\", \"tendency\", \"things\", \"traffic\", \"two_different\", \"unfamiliar\", \"verhaltniss\", \"view\", \"views\", \"views\", \"volume\", \"wavelengths\", \"waves\", \"whollydominated\", \"work\"]}, \"R\": 30, \"lambda.step\": 0.01, \"plot.opts\": {\"xlab\": \"PC1\", \"ylab\": \"PC2\"}, \"topic.order\": [1, 2]};\n",
       "\n",
       "function LDAvis_load_lib(url, callback){\n",
       "  var s = document.createElement('script');\n",
       "  s.src = url;\n",
       "  s.async = true;\n",
       "  s.onreadystatechange = s.onload = callback;\n",
       "  s.onerror = function(){console.warn(\"failed to load library \" + url);};\n",
       "  document.getElementsByTagName(\"head\")[0].appendChild(s);\n",
       "}\n",
       "\n",
       "if(typeof(LDAvis) !== \"undefined\"){\n",
       "   // already loaded: just create the visualization\n",
       "   !function(LDAvis){\n",
       "       new LDAvis(\"#\" + \"ldavis_el756025197365722724308089103\", ldavis_el756025197365722724308089103_data);\n",
       "   }(LDAvis);\n",
       "}else if(typeof define === \"function\" && define.amd){\n",
       "   // require.js is available: use it to load d3/LDAvis\n",
       "   require.config({paths: {d3: \"https://d3js.org/d3.v5\"}});\n",
       "   require([\"d3\"], function(d3){\n",
       "      window.d3 = d3;\n",
       "      LDAvis_load_lib(\"https://cdn.jsdelivr.net/gh/bmabey/pyLDAvis@3.3.1/pyLDAvis/js/ldavis.v3.0.0.js\", function(){\n",
       "        new LDAvis(\"#\" + \"ldavis_el756025197365722724308089103\", ldavis_el756025197365722724308089103_data);\n",
       "      });\n",
       "    });\n",
       "}else{\n",
       "    // require.js not available: dynamically load d3 & LDAvis\n",
       "    LDAvis_load_lib(\"https://d3js.org/d3.v5.js\", function(){\n",
       "         LDAvis_load_lib(\"https://cdn.jsdelivr.net/gh/bmabey/pyLDAvis@3.3.1/pyLDAvis/js/ldavis.v3.0.0.js\", function(){\n",
       "                 new LDAvis(\"#\" + \"ldavis_el756025197365722724308089103\", ldavis_el756025197365722724308089103_data);\n",
       "            })\n",
       "         });\n",
       "}\n",
       "</script>"
      ],
      "text/plain": [
       "PreparedData(topic_coordinates=              x    y  topics  cluster       Freq\n",
       "topic                                           \n",
       "0      0.332384  0.0       1        1  50.158369\n",
       "1     -0.332384  0.0       2        1  49.841631, topic_info=            Term         Freq        Total Category  logprob  loglift\n",
       "114  information  7705.000000  7705.000000  Default  30.0000  30.0000\n",
       "415      traffic  5905.000000  5905.000000  Default  29.0000  29.0000\n",
       "17   essentially  5063.000000  5063.000000  Default  28.0000  28.0000\n",
       "69       feeling  4730.000000  4730.000000  Default  27.0000  27.0000\n",
       "49        events  4608.000000  4608.000000  Default  26.0000  26.0000\n",
       "..           ...          ...          ...      ...      ...      ...\n",
       "102         work  1251.383130  1251.383130   Topic2  -5.8223   0.6963\n",
       "39     exponents  1188.759937  1188.759937   Topic2  -5.8737   0.6963\n",
       "399        views  2981.077407  3045.460403   Topic2  -4.9543   0.6750\n",
       "775         part  1415.498964  1424.228862   Topic2  -5.6991   0.6902\n",
       "381         easy  2486.570516  2664.442184   Topic2  -5.1357   0.6272\n",
       "\n",
       "[154 rows x 6 columns], token_table=       Topic      Freq             Term\n",
       "term                                   \n",
       "366        2  0.926175         accepted\n",
       "138        2  0.999747         accurate\n",
       "567        1  1.000103     acknowledged\n",
       "370        2  0.926175    alternatively\n",
       "276        2  0.984061        among_men\n",
       "...      ...       ...              ...\n",
       "551        2  0.999744           volume\n",
       "23758      1  0.998949      wavelengths\n",
       "1911       1  1.000244            waves\n",
       "1482       1  0.999890  whollydominated\n",
       "102        2  0.999694             work\n",
       "\n",
       "[132 rows x 3 columns], R=30, lambda_step=0.01, plot_opts={'xlab': 'PC1', 'ylab': 'PC2'}, topic_order=[1, 2])"
      ]
     },
     "execution_count": 58,
     "metadata": {},
     "output_type": "execute_result"
    }
   ],
   "source": [
    "#conda install -c conda-forge pyldavis\n",
    "import pyLDAvis.gensim_models\n",
    "pyLDAvis.enable_notebook()\n",
    "vis = pyLDAvis.gensim_models.prepare(optimal_model, corpus[0], dictionary=lda_model.id2word)\n",
    "vis"
   ]
  },
  {
   "cell_type": "code",
   "execution_count": null,
   "metadata": {},
   "outputs": [],
   "source": [
    "pyLDAvis.save_html(vis, 'lda_period1.html')"
   ]
  },
  {
   "cell_type": "code",
   "execution_count": null,
   "metadata": {},
   "outputs": [],
   "source": []
  },
  {
   "cell_type": "code",
   "execution_count": null,
   "metadata": {},
   "outputs": [],
   "source": []
  },
  {
   "cell_type": "code",
   "execution_count": null,
   "metadata": {},
   "outputs": [],
   "source": []
  },
  {
   "cell_type": "code",
   "execution_count": null,
   "metadata": {},
   "outputs": [],
   "source": []
  }
 ],
 "metadata": {
  "kernelspec": {
   "display_name": "Python 3",
   "language": "python",
   "name": "python3"
  },
  "language_info": {
   "codemirror_mode": {
    "name": "ipython",
    "version": 3
   },
   "file_extension": ".py",
   "mimetype": "text/x-python",
   "name": "python",
   "nbconvert_exporter": "python",
   "pygments_lexer": "ipython3",
   "version": "3.8.3"
  }
 },
 "nbformat": 4,
 "nbformat_minor": 2
}
